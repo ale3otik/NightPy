{
 "cells": [
  {
   "cell_type": "code",
   "execution_count": null,
   "metadata": {},
   "outputs": [],
   "source": [
    "%pylab inline\n",
    "\n",
    "import gc\n",
    "import os\n",
    "import pickle\n",
    "import h5py\n",
    "import json\n",
    "import random\n",
    "import time\n",
    "\n",
    "import numpy as np\n",
    "import pandas as pd\n",
    "import lightgbm as lgb\n",
    "\n",
    "from sklearn.metrics import mean_squared_error\n",
    "from datetime import datetime, timedelta\n",
    "\n",
    "pd.set_option('display.max_rows', 100)\n",
    "pd.set_option('display.max_columns', 50)\n",
    "pd.options.mode.chained_assignment = None"
   ]
  },
  {
   "cell_type": "code",
   "execution_count": null,
   "metadata": {},
   "outputs": [],
   "source": [
    "dataset = pd.read_csv('../data/training.csv', sep = ';')"
   ]
  },
  {
   "cell_type": "code",
   "execution_count": null,
   "metadata": {},
   "outputs": [],
   "source": [
    "dataset.columns = ['ID', 'TS',\n",
    "                  'BID0', 'VBID0', 'BID1', 'VBID1', 'BID2', 'VBID2', 'BID3', 'VBID3', 'BID4', 'VBID4', \n",
    "                  'BID5', 'VBID5', 'BID6', 'VBID6', 'BID7', 'VBID7', 'BID8', 'VBID8', 'BID9', 'VBID9',\n",
    "                  'ASK0', 'VASK0', 'ASK1', 'VASK1', 'ASK2', 'VASK2', 'ASK3', 'VASK3', 'ASK4', 'VASK4',\n",
    "                  'ASK5', 'VASK5', 'ASK6', 'VASK6', 'ASK7', 'VASK7', 'ASK8', 'VASK8', 'ASK9', 'VASK9', 'Y']"
   ]
  },
  {
   "cell_type": "code",
   "execution_count": null,
   "metadata": {},
   "outputs": [],
   "source": [
    "tea = dataset[dataset.ID == 'TEA']"
   ]
  },
  {
   "cell_type": "code",
   "execution_count": null,
   "metadata": {},
   "outputs": [],
   "source": [
    "tea"
   ]
  },
  {
   "cell_type": "code",
   "execution_count": null,
   "metadata": {},
   "outputs": [],
   "source": [
    "asksall  = np.array(np.vstack((tea['ASK0'], tea['ASK1'])).T, dtype = float64)\n",
    "bidsall  = np.array(np.vstack((tea['BID0'], tea['BID1'])).T, dtype = float64)\n",
    "yall     = np.array(tea['Y'])"
   ]
  },
  {
   "cell_type": "code",
   "execution_count": null,
   "metadata": {},
   "outputs": [],
   "source": [
    "lenall = len(asksall)\n",
    "Xall = np.zeros((lenall, 4))\n",
    "\n",
    "Xall[:, 0] = asksall[:, 0] # ASK0\n",
    "Xall[:, 1] = bidsall[:, 0] # BID0\n",
    "Xall[:, 2] = asksall[:, 1] # ASK1\n",
    "Xall[:, 3] = bidsall[:, 1] # BID1\n",
    "\n",
    "Xall[np.isnan(Xall)] = 0.\n",
    "yall[np.isnan(yall)] = 0."
   ]
  },
  {
   "cell_type": "code",
   "execution_count": null,
   "metadata": {},
   "outputs": [],
   "source": [
    "assert(0 == np.count_nonzero(np.isnan(Xall)))\n",
    "assert(0 == np.count_nonzero(np.isnan(yall)))"
   ]
  },
  {
   "cell_type": "code",
   "execution_count": null,
   "metadata": {
    "scrolled": false
   },
   "outputs": [],
   "source": [
    "figsize(16, 8)\n",
    "\n",
    "subplot(2, 1, 1)\n",
    "plot(tea.BID0)\n",
    "plot(tea.ASK0)\n",
    "\n",
    "subplot(2, 1, 2)\n",
    "plot(tea['Y'])"
   ]
  },
  {
   "cell_type": "code",
   "execution_count": null,
   "metadata": {},
   "outputs": [],
   "source": [
    "lgbparam                 = {}\n",
    "lgbparam['metric']       = 'rmse'\n",
    "lgbparam['application']  = 'regression'\n",
    "lgbparam['nthread']      = 4\n",
    "lgbparam['seed']         = 1\n",
    "lgbnumround              = 100"
   ]
  },
  {
   "cell_type": "code",
   "execution_count": null,
   "metadata": {},
   "outputs": [],
   "source": [
    "sep = int(0.5 * lenall)"
   ]
  },
  {
   "cell_type": "code",
   "execution_count": null,
   "metadata": {},
   "outputs": [],
   "source": [
    "print(sep, lenall - sep)"
   ]
  },
  {
   "cell_type": "code",
   "execution_count": null,
   "metadata": {},
   "outputs": [],
   "source": [
    "lgbtrain = lgb.Dataset(Xall[:sep], label=yall[:sep])\n",
    "lgbtest  = lgb.Dataset(Xall[sep:], label=yall[sep:])"
   ]
  },
  {
   "cell_type": "code",
   "execution_count": null,
   "metadata": {},
   "outputs": [],
   "source": [
    "def rmse(ytrue, ypred):\n",
    "    return np.sqrt(mean_squared_error(ytrue, ypred))"
   ]
  },
  {
   "cell_type": "code",
   "execution_count": null,
   "metadata": {},
   "outputs": [],
   "source": [
    "model = lgb.train(lgbparam, lgbtrain, lgbnumround, valid_sets=[lgbtrain, lgbtest], verbose_eval=10)\n",
    "ypred = model.predict(Xall)\n",
    "\n",
    "if sep != 0:\n",
    "    score1 = rmse(yall[:sep], ypred[:sep])\n",
    "    score2 = rmse(yall[sep:], ypred[sep:])\n",
    "    \n",
    "    print(score1)\n",
    "    print(score2)"
   ]
  },
  {
   "cell_type": "code",
   "execution_count": null,
   "metadata": {},
   "outputs": [],
   "source": [
    "model_filename = 'my_model.txt'"
   ]
  },
  {
   "cell_type": "code",
   "execution_count": null,
   "metadata": {},
   "outputs": [],
   "source": [
    "# Save pre-trained model\n",
    "model.save_model(model_filename)"
   ]
  },
  {
   "cell_type": "code",
   "execution_count": null,
   "metadata": {},
   "outputs": [],
   "source": [
    "# Load pre-trained model\n",
    "loaded_model = lgb.Booster(model_file=model_filename)"
   ]
  },
  {
   "cell_type": "code",
   "execution_count": null,
   "metadata": {},
   "outputs": [],
   "source": []
  },
  {
   "cell_type": "code",
   "execution_count": 1,
   "metadata": {},
   "outputs": [],
   "source": [
    "from keras.models import load_model\n",
    "model = load_model('weights.04-0.04.hdf5')"
   ]
  },
  {
   "cell_type": "code",
   "execution_count": 2,
   "metadata": {},
   "outputs": [
    {
     "name": "stdout",
     "output_type": "stream",
     "text": [
      "_________________________________________________________________\n",
      "Layer (type)                 Output Shape              Param #   \n",
      "=================================================================\n",
      "input_21 (InputLayer)        (None, 10, 262)           0         \n",
      "_________________________________________________________________\n",
      "lstm_21 (LSTM)               (None, 10, 100)           145200    \n",
      "_________________________________________________________________\n",
      "dense_36 (Dense)             (None, 10, 1)             101       \n",
      "=================================================================\n",
      "Total params: 145,301\n",
      "Trainable params: 145,301\n",
      "Non-trainable params: 0\n",
      "_________________________________________________________________\n"
     ]
    }
   ],
   "source": [
    "model.summary()"
   ]
  },
  {
   "cell_type": "code",
   "execution_count": null,
   "metadata": {},
   "outputs": [],
   "source": []
  }
 ],
 "metadata": {
  "anaconda-cloud": {},
  "kernelspec": {
   "display_name": "Python 3",
   "language": "python",
   "name": "python3"
  },
  "language_info": {
   "codemirror_mode": {
    "name": "ipython",
    "version": 3
   },
   "file_extension": ".py",
   "mimetype": "text/x-python",
   "name": "python",
   "nbconvert_exporter": "python",
   "pygments_lexer": "ipython3",
   "version": "3.6.3"
  }
 },
 "nbformat": 4,
 "nbformat_minor": 2
}
