{
 "cells": [
  {
   "cell_type": "code",
   "execution_count": 13,
   "metadata": {
    "collapsed": true
   },
   "outputs": [],
   "source": [
    "from importlib import reload\n",
    "import keras.layers"
   ]
  },
  {
   "cell_type": "code",
   "execution_count": 30,
   "metadata": {
    "collapsed": false
   },
   "outputs": [
    {
     "name": "stdout",
     "output_type": "stream",
     "text": [
      "(?, ?, 15)\n",
      "(?, 100, 1)\n",
      "(?, 100, 10)\n",
      "Epoch 1/20\n",
      "10/10 [==============================] - 4s 396ms/step - loss: 24.5506\n",
      "Epoch 2/20\n",
      "10/10 [==============================] - 0s 29ms/step - loss: 24.1474\n",
      "Epoch 3/20\n",
      "10/10 [==============================] - 0s 27ms/step - loss: 23.7442\n",
      "Epoch 4/20\n",
      "10/10 [==============================] - 0s 28ms/step - loss: 23.3414\n",
      "Epoch 5/20\n",
      "10/10 [==============================] - 0s 29ms/step - loss: 22.9397\n",
      "Epoch 6/20\n",
      "10/10 [==============================] - 0s 29ms/step - loss: 22.5394\n",
      "Epoch 7/20\n",
      "10/10 [==============================] - 0s 27ms/step - loss: 22.1410\n",
      "Epoch 8/20\n",
      "10/10 [==============================] - 0s 30ms/step - loss: 21.7451\n",
      "Epoch 9/20\n",
      "10/10 [==============================] - 0s 31ms/step - loss: 21.3520\n",
      "Epoch 10/20\n",
      "10/10 [==============================] - 0s 27ms/step - loss: 20.9620\n",
      "Epoch 11/20\n",
      "10/10 [==============================] - 0s 44ms/step - loss: 20.5755\n",
      "Epoch 12/20\n",
      "10/10 [==============================] - 0s 42ms/step - loss: 20.1929\n",
      "Epoch 13/20\n",
      "10/10 [==============================] - 1s 54ms/step - loss: 19.8143\n",
      "Epoch 14/20\n",
      "10/10 [==============================] - 0s 29ms/step - loss: 19.4401\n",
      "Epoch 15/20\n",
      "10/10 [==============================] - 0s 31ms/step - loss: 19.0703\n",
      "Epoch 16/20\n",
      "10/10 [==============================] - 0s 30ms/step - loss: 18.7052\n",
      "Epoch 17/20\n",
      "10/10 [==============================] - 0s 28ms/step - loss: 18.3449\n",
      "Epoch 18/20\n",
      "10/10 [==============================] - 0s 30ms/step - loss: 17.9894\n",
      "Epoch 19/20\n",
      "10/10 [==============================] - 0s 28ms/step - loss: 17.6388\n",
      "Epoch 20/20\n",
      "10/10 [==============================] - 0s 29ms/step - loss: 17.2932\n"
     ]
    },
    {
     "data": {
      "text/plain": [
       "<keras.callbacks.History at 0x12a17ed30>"
      ]
     },
     "execution_count": 30,
     "metadata": {},
     "output_type": "execute_result"
    }
   ],
   "source": [
    "import keras_lstm\n",
    "import numpy as np\n",
    "import pandas as pd \n",
    "reload(keras_lstm)\n",
    "model = keras_lstm.keras_lstm_model_1(max_sequence_length=100,input_shape=10)\n",
    "\n",
    "x = np.random.random(10000).reshape(10,100,10)\n",
    "y = np.sum(x,axis=-1) + np.random.random(1000).reshape(10,100)/100.0\n",
    "y = y.reshape(list(y.shape) + [1])\n",
    "# print(x.shape)\n",
    "# print(y.shape)\n",
    "\n",
    "model.fit(x=x,y=y, epochs=20, verbose=1, batch_size=10)"
   ]
  }
 ],
 "metadata": {
  "kernelspec": {
   "display_name": "Python 3",
   "language": "python",
   "name": "python3"
  },
  "language_info": {
   "codemirror_mode": {
    "name": "ipython",
    "version": 3
   },
   "file_extension": ".py",
   "mimetype": "text/x-python",
   "name": "python",
   "nbconvert_exporter": "python",
   "pygments_lexer": "ipython3",
   "version": "3.5.3"
  }
 },
 "nbformat": 4,
 "nbformat_minor": 2
}
