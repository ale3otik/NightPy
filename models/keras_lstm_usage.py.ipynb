{
 "cells": [
  {
   "cell_type": "code",
   "execution_count": 13,
   "metadata": {
    "collapsed": true
   },
   "outputs": [],
   "source": [
    "from importlib import reload\n",
    "import keras.layers"
   ]
  },
  {
   "cell_type": "code",
   "execution_count": 32,
   "metadata": {
    "collapsed": false
   },
   "outputs": [
    {
     "name": "stdout",
     "output_type": "stream",
     "text": [
      "Epoch 1/20\n",
      "10/10 [==============================] - 1s 143ms/step - loss: 26.4896\n",
      "Epoch 2/20\n",
      "10/10 [==============================] - 0s 31ms/step - loss: 24.7963\n",
      "Epoch 3/20\n",
      "10/10 [==============================] - 0s 32ms/step - loss: 23.1520\n",
      "Epoch 4/20\n",
      "10/10 [==============================] - 0s 29ms/step - loss: 21.5110\n",
      "Epoch 5/20\n",
      "10/10 [==============================] - 0s 34ms/step - loss: 19.8318\n",
      "Epoch 6/20\n",
      "10/10 [==============================] - 0s 33ms/step - loss: 18.0740\n",
      "Epoch 7/20\n",
      "10/10 [==============================] - 0s 30ms/step - loss: 16.1934\n",
      "Epoch 8/20\n",
      "10/10 [==============================] - 0s 26ms/step - loss: 14.1458\n",
      "Epoch 9/20\n",
      "10/10 [==============================] - 0s 26ms/step - loss: 11.9041\n",
      "Epoch 10/20\n",
      "10/10 [==============================] - 0s 32ms/step - loss: 9.4968\n",
      "Epoch 11/20\n",
      "10/10 [==============================] - 0s 30ms/step - loss: 7.0684\n",
      "Epoch 12/20\n",
      "10/10 [==============================] - 0s 31ms/step - loss: 4.9035\n",
      "Epoch 13/20\n",
      "10/10 [==============================] - 0s 31ms/step - loss: 3.2935\n",
      "Epoch 14/20\n",
      "10/10 [==============================] - 0s 31ms/step - loss: 2.3314\n",
      "Epoch 15/20\n",
      "10/10 [==============================] - 0s 31ms/step - loss: 1.9138\n",
      "Epoch 16/20\n",
      "10/10 [==============================] - 0s 29ms/step - loss: 1.8776\n",
      "Epoch 17/20\n",
      "10/10 [==============================] - 0s 30ms/step - loss: 2.0452\n",
      "Epoch 18/20\n",
      "10/10 [==============================] - 0s 39ms/step - loss: 2.2342\n",
      "Epoch 19/20\n",
      "10/10 [==============================] - 0s 32ms/step - loss: 2.3394\n",
      "Epoch 20/20\n",
      "10/10 [==============================] - 0s 32ms/step - loss: 2.3390\n"
     ]
    },
    {
     "data": {
      "text/plain": [
       "<keras.callbacks.History at 0x12af92048>"
      ]
     },
     "execution_count": 32,
     "metadata": {},
     "output_type": "execute_result"
    }
   ],
   "source": [
    "import keras_lstm\n",
    "import numpy as np\n",
    "import pandas as pd \n",
    "reload(keras_lstm)\n",
    "model = keras_lstm.keras_lstm_model_1(max_sequence_length=100,input_shape=10)\n",
    "\n",
    "x = np.random.random(10000).reshape(10,100,10)\n",
    "y = np.sum(x,axis=-1) + np.random.random(1000).reshape(10,100)/100.0\n",
    "y = y.reshape(list(y.shape) + [1])\n",
    "# print(x.shape)\n",
    "# print(y.shape)\n",
    "\n",
    "model.fit(x=x,y=y, epochs=20, verbose=1, batch_size=10)"
   ]
  }
 ],
 "metadata": {
  "kernelspec": {
   "display_name": "Python 3",
   "language": "python",
   "name": "python3"
  },
  "language_info": {
   "codemirror_mode": {
    "name": "ipython",
    "version": 3
   },
   "file_extension": ".py",
   "mimetype": "text/x-python",
   "name": "python",
   "nbconvert_exporter": "python",
   "pygments_lexer": "ipython3",
   "version": "3.5.3"
  }
 },
 "nbformat": 4,
 "nbformat_minor": 2
}
