{
 "cells": [
  {
   "cell_type": "code",
   "execution_count": 1,
   "metadata": {},
   "outputs": [
    {
     "name": "stderr",
     "output_type": "stream",
     "text": [
      "Using TensorFlow backend.\n",
      "/Users/sergmiller/anaconda3/lib/python3.6/importlib/_bootstrap.py:219: RuntimeWarning: compiletime version 3.5 of module 'tensorflow.python.framework.fast_tensor_util' does not match runtime version 3.6\n",
      "  return f(*args, **kwds)\n",
      "/Users/sergmiller/anaconda3/lib/python3.6/site-packages/sklearn/cross_validation.py:41: DeprecationWarning: This module was deprecated in version 0.18 in favor of the model_selection module into which all the refactored classes and functions are moved. Also note that the interface of the new CV iterators are different from that of this module. This module will be removed in 0.20.\n",
      "  \"This module will be removed in 0.20.\", DeprecationWarning)\n"
     ]
    }
   ],
   "source": [
    "import numpy as np \n",
    "import scipy.stats as sps\n",
    "import pandas as pd\n",
    "import h5py\n",
    "import os\n",
    "from tqdm import tqdm\n",
    "\n",
    "from copy import deepcopy\n",
    "\n",
    "from numpy import array\n",
    "from os import environ\n",
    "from os.path import join\n",
    "from sys import argv\n",
    "\n",
    "from glob import glob\n",
    "from numpy import zeros\n",
    "from os.path import basename, join\n",
    "\n",
    "from keras.models import load_model\n",
    "from os import environ\n",
    "from os.path import abspath, dirname, join\n",
    "\n",
    "from copy import copy\n",
    "\n",
    "from sklearn.cross_validation import train_test_split\n",
    "\n",
    "import matplotlib.pyplot as plt\n",
    "%matplotlib inline"
   ]
  },
  {
   "cell_type": "code",
   "execution_count": 2,
   "metadata": {},
   "outputs": [],
   "source": [
    "import keras\n",
    "from keras import backend as K\n",
    "\n",
    "from keras.models import Sequential\n",
    "from keras.models import model_from_json\n",
    "\n",
    "from keras.layers import InputLayer, Input, Dense, Activation, Dropout, BatchNormalization, Reshape\n",
    "from keras.layers import Average, Conv2D, MaxPooling2D, Flatten\n",
    "from keras.layers.merge import Concatenate\n",
    "from keras.activations import relu, softmax, sigmoid\n",
    "from keras.layers.advanced_activations import LeakyReLU\n",
    "from keras.preprocessing.image import ImageDataGenerator\n",
    "\n",
    "from keras.models import Model\n",
    "\n",
    "from keras.regularizers import l2\n",
    "\n",
    "from keras.constraints import maxnorm\n",
    "\n",
    "from keras.optimizers import SGD, Adam\n",
    "from keras.utils import np_utils\n",
    "from keras.utils.np_utils import to_categorical\n",
    "\n",
    "from keras.losses import binary_crossentropy, mse\n",
    "\n",
    "from keras.callbacks import LearningRateScheduler"
   ]
  },
  {
   "cell_type": "code",
   "execution_count": 51,
   "metadata": {},
   "outputs": [],
   "source": [
    "import datagen_Miller\n",
    "import models.keras_lstm\n",
    "import models.dnn\n",
    "import feature_generator"
   ]
  },
  {
   "cell_type": "code",
   "execution_count": 4,
   "metadata": {
    "collapsed": true
   },
   "outputs": [],
   "source": [
    "from importlib import reload"
   ]
  },
  {
   "cell_type": "code",
   "execution_count": 56,
   "metadata": {},
   "outputs": [],
   "source": [
    "def run_model(X_train, y_train, X_val, y_val, \n",
    "          bad_columns=None,\n",
    "          batch_size=1000,\n",
    "          feature_expander=None,\n",
    "          forecast_win=10,\n",
    "          features_win=100,\n",
    "          epochs=50,\n",
    "          input_shape=None,\n",
    "          path_to_load=None, \n",
    "          path_to_save=None,\n",
    "          isLstm=False,\n",
    "         ):\n",
    "    \n",
    "    assert isinstance(X_train, pd.DataFrame)\n",
    "    assert input_shape is not None\n",
    "    \n",
    "    if path_to_load is None:\n",
    "        model = models.keras_lstm.keras_lstm_model_1(max_sequence_length=batch_size,\n",
    "                                              input_shape=input_shape)\n",
    "#         model = models.dnn.nn_1(input_shape=80)\n",
    "    else:\n",
    "        model = load_model(path_to_load)\n",
    "        optimizer = Adam(1e-3, clipvalue=0.5)\n",
    "        model.compile(loss='mean_squared_error', \n",
    "                      optimizer=optimizer)\n",
    "    \n",
    "    datagen = datagen_Miller.DataGenerator(\n",
    "                                        batch_size,\n",
    "                                        feature_expander,\n",
    "                                        forecast_win, \n",
    "                                        features_win,\n",
    "                                        isLstm,\n",
    "                                          )\n",
    "    datagen.fit()\n",
    "    \n",
    "    filepath = \"weights.{epoch:02d}-{val_loss:.2f}.hdf5\"\n",
    "    \n",
    "    print('val steps {}'.format(X_val.shape[0] // batch_size))\n",
    "    \n",
    "    model.fit_generator(datagen.flow(X_train, y_train),\n",
    "                        steps_per_epoch=X_train.shape[0] / batch_size, \n",
    "                        epochs=epochs, \n",
    "                        shuffle=False,\n",
    "        callbacks=[\n",
    "            datagen_Miller.TelegramCallback(),\n",
    "            keras.callbacks.ModelCheckpoint(filepath, \n",
    "                                        monitor='val_loss', \n",
    "                                        verbose=0, \n",
    "                                        save_best_only=False, \n",
    "                                        save_weights_only=False, \n",
    "                                        mode='auto', \n",
    "                                        period=1)\n",
    "                ],\n",
    "        validation_data=datagen.flow(X_val, y_val),\n",
    "        validation_steps=X_val.shape[0] // batch_size,\n",
    "                       )\n",
    "    \n",
    "    if path_to_save:\n",
    "        model.save(path_to_save)"
   ]
  },
  {
   "cell_type": "code",
   "execution_count": 74,
   "metadata": {},
   "outputs": [
    {
     "data": {
      "text/plain": [
       "<module 'feature_generator' from '/Users/sergmiller/Documents/code/python/NightPy/feature_generator.py'>"
      ]
     },
     "execution_count": 74,
     "metadata": {},
     "output_type": "execute_result"
    }
   ],
   "source": [
    "reload(datagen_Miller)\n",
    "reload(models.keras_lstm)\n",
    "reload(models.dnn)\n",
    "reload(feature_generator)"
   ]
  },
  {
   "cell_type": "code",
   "execution_count": 7,
   "metadata": {},
   "outputs": [
    {
     "name": "stdout",
     "output_type": "stream",
     "text": [
      "CPU times: user 13.7 s, sys: 1.25 s, total: 14.9 s\n",
      "Wall time: 15.5 s\n"
     ]
    }
   ],
   "source": [
    "%%time\n",
    "# X_train = pd.read_csv('data/splits/tea_full_train.csv')\n",
    "val = pd.read_csv('data/splits/tea_full_validation.csv')\n",
    "# X_test = pd.read_csv('data/splits/tea_full_test.csv')"
   ]
  },
  {
   "cell_type": "code",
   "execution_count": 8,
   "metadata": {},
   "outputs": [
    {
     "data": {
      "text/plain": [
       "(1567308, 44)"
      ]
     },
     "execution_count": 8,
     "metadata": {},
     "output_type": "execute_result"
    }
   ],
   "source": [
    "val.shape"
   ]
  },
  {
   "cell_type": "code",
   "execution_count": 9,
   "metadata": {
    "collapsed": true
   },
   "outputs": [],
   "source": [
    "X_train = val.iloc[:1000]\n",
    "X_val = val.iloc[1000:2000]"
   ]
  },
  {
   "cell_type": "code",
   "execution_count": 10,
   "metadata": {
    "collapsed": true
   },
   "outputs": [],
   "source": [
    "filter_columns = ['Unnamed: 0', '0_ID', 'Y', '1_TIME']"
   ]
  },
  {
   "cell_type": "code",
   "execution_count": 11,
   "metadata": {},
   "outputs": [],
   "source": [
    "y_train = np.array(X_train['Y'])\n",
    "X_train = pd.DataFrame(X_train.drop(filter_columns, axis=1), dtype=np.float32)\n",
    "y_val = np.array(X_val['Y'])\n",
    "X_val = pd.DataFrame(X_val.drop(filter_columns, axis=1), dtype=np.float32)"
   ]
  },
  {
   "cell_type": "code",
   "execution_count": 106,
   "metadata": {},
   "outputs": [],
   "source": [
    "# for col in X_train:\n",
    "#     print(type(X_train[col].iloc[0]))"
   ]
  },
  {
   "cell_type": "code",
   "execution_count": 55,
   "metadata": {},
   "outputs": [
    {
     "data": {
      "text/plain": [
       "(1000, 40)"
      ]
     },
     "execution_count": 55,
     "metadata": {},
     "output_type": "execute_result"
    }
   ],
   "source": [
    "X_train.shape"
   ]
  },
  {
   "cell_type": "code",
   "execution_count": 77,
   "metadata": {},
   "outputs": [
    {
     "name": "stdout",
     "output_type": "stream",
     "text": [
      "val steps 50\n",
      "Epoch 1/10\n",
      "33/50 [==================>...........] - ETA: 3s - loss: 0.0287- ETA: 7s - loss: - ETA: 5s - loss:"
     ]
    },
    {
     "name": "stderr",
     "output_type": "stream",
     "text": [
      "/Users/sergmiller/anaconda3/lib/python3.6/site-packages/keras/callbacks.py:116: UserWarning: Method on_batch_end() is slow compared to the batch update (0.102513). Check your callbacks.\n",
      "  % delta_t_median)\n"
     ]
    },
    {
     "name": "stdout",
     "output_type": "stream",
     "text": [
      "37/50 [=====================>........] - ETA: 2s - loss: 0.0261- ETA: 3s - loss: 0.026"
     ]
    },
    {
     "name": "stderr",
     "output_type": "stream",
     "text": [
      "/Users/sergmiller/anaconda3/lib/python3.6/site-packages/keras/callbacks.py:116: UserWarning: Method on_batch_end() is slow compared to the batch update (0.103685). Check your callbacks.\n",
      "  % delta_t_median)\n"
     ]
    },
    {
     "name": "stdout",
     "output_type": "stream",
     "text": [
      "46/50 [==========================>...] - ETA: 0s - loss: 0.0259- ETA: 1s - loss: 0.02"
     ]
    },
    {
     "ename": "KeyboardInterrupt",
     "evalue": "",
     "output_type": "error",
     "traceback": [
      "\u001b[0;31m---------------------------------------------------------------------------\u001b[0m",
      "\u001b[0;31mKeyboardInterrupt\u001b[0m                         Traceback (most recent call last)",
      "\u001b[0;32m<timed eval>\u001b[0m in \u001b[0;36m<module>\u001b[0;34m()\u001b[0m\n",
      "\u001b[0;32m<ipython-input-56-e337e491b23d>\u001b[0m in \u001b[0;36mrun_model\u001b[0;34m(X_train, y_train, X_val, y_val, bad_columns, batch_size, feature_expander, forecast_win, features_win, epochs, input_shape, path_to_load, path_to_save, isLstm)\u001b[0m\n\u001b[1;32m     53\u001b[0m                 ],\n\u001b[1;32m     54\u001b[0m         \u001b[0mvalidation_data\u001b[0m\u001b[0;34m=\u001b[0m\u001b[0mdatagen\u001b[0m\u001b[0;34m.\u001b[0m\u001b[0mflow\u001b[0m\u001b[0;34m(\u001b[0m\u001b[0mX_val\u001b[0m\u001b[0;34m,\u001b[0m \u001b[0my_val\u001b[0m\u001b[0;34m)\u001b[0m\u001b[0;34m,\u001b[0m\u001b[0;34m\u001b[0m\u001b[0m\n\u001b[0;32m---> 55\u001b[0;31m         \u001b[0mvalidation_steps\u001b[0m\u001b[0;34m=\u001b[0m\u001b[0mX_val\u001b[0m\u001b[0;34m.\u001b[0m\u001b[0mshape\u001b[0m\u001b[0;34m[\u001b[0m\u001b[0;36m0\u001b[0m\u001b[0;34m]\u001b[0m \u001b[0;34m//\u001b[0m \u001b[0mbatch_size\u001b[0m\u001b[0;34m,\u001b[0m\u001b[0;34m\u001b[0m\u001b[0m\n\u001b[0m\u001b[1;32m     56\u001b[0m                        )\n\u001b[1;32m     57\u001b[0m \u001b[0;34m\u001b[0m\u001b[0m\n",
      "\u001b[0;32m~/anaconda3/lib/python3.6/site-packages/keras/legacy/interfaces.py\u001b[0m in \u001b[0;36mwrapper\u001b[0;34m(*args, **kwargs)\u001b[0m\n\u001b[1;32m     85\u001b[0m                 warnings.warn('Update your `' + object_name +\n\u001b[1;32m     86\u001b[0m                               '` call to the Keras 2 API: ' + signature, stacklevel=2)\n\u001b[0;32m---> 87\u001b[0;31m             \u001b[0;32mreturn\u001b[0m \u001b[0mfunc\u001b[0m\u001b[0;34m(\u001b[0m\u001b[0;34m*\u001b[0m\u001b[0margs\u001b[0m\u001b[0;34m,\u001b[0m \u001b[0;34m**\u001b[0m\u001b[0mkwargs\u001b[0m\u001b[0;34m)\u001b[0m\u001b[0;34m\u001b[0m\u001b[0m\n\u001b[0m\u001b[1;32m     88\u001b[0m         \u001b[0mwrapper\u001b[0m\u001b[0;34m.\u001b[0m\u001b[0m_original_function\u001b[0m \u001b[0;34m=\u001b[0m \u001b[0mfunc\u001b[0m\u001b[0;34m\u001b[0m\u001b[0m\n\u001b[1;32m     89\u001b[0m         \u001b[0;32mreturn\u001b[0m \u001b[0mwrapper\u001b[0m\u001b[0;34m\u001b[0m\u001b[0m\n",
      "\u001b[0;32m~/anaconda3/lib/python3.6/site-packages/keras/engine/training.py\u001b[0m in \u001b[0;36mfit_generator\u001b[0;34m(self, generator, steps_per_epoch, epochs, verbose, callbacks, validation_data, validation_steps, class_weight, max_queue_size, workers, use_multiprocessing, shuffle, initial_epoch)\u001b[0m\n\u001b[1;32m   2108\u001b[0m                     \u001b[0mbatch_logs\u001b[0m\u001b[0;34m[\u001b[0m\u001b[0;34m'batch'\u001b[0m\u001b[0;34m]\u001b[0m \u001b[0;34m=\u001b[0m \u001b[0mbatch_index\u001b[0m\u001b[0;34m\u001b[0m\u001b[0m\n\u001b[1;32m   2109\u001b[0m                     \u001b[0mbatch_logs\u001b[0m\u001b[0;34m[\u001b[0m\u001b[0;34m'size'\u001b[0m\u001b[0;34m]\u001b[0m \u001b[0;34m=\u001b[0m \u001b[0mbatch_size\u001b[0m\u001b[0;34m\u001b[0m\u001b[0m\n\u001b[0;32m-> 2110\u001b[0;31m                     \u001b[0mcallbacks\u001b[0m\u001b[0;34m.\u001b[0m\u001b[0mon_batch_begin\u001b[0m\u001b[0;34m(\u001b[0m\u001b[0mbatch_index\u001b[0m\u001b[0;34m,\u001b[0m \u001b[0mbatch_logs\u001b[0m\u001b[0;34m)\u001b[0m\u001b[0;34m\u001b[0m\u001b[0m\n\u001b[0m\u001b[1;32m   2111\u001b[0m \u001b[0;34m\u001b[0m\u001b[0m\n\u001b[1;32m   2112\u001b[0m                     outs = self.train_on_batch(x, y,\n",
      "\u001b[0;32m~/anaconda3/lib/python3.6/site-packages/keras/callbacks.py\u001b[0m in \u001b[0;36mon_batch_begin\u001b[0;34m(self, batch, logs)\u001b[0m\n\u001b[1;32m     85\u001b[0m             \u001b[0mcallback\u001b[0m\u001b[0;34m.\u001b[0m\u001b[0mon_batch_begin\u001b[0m\u001b[0;34m(\u001b[0m\u001b[0mbatch\u001b[0m\u001b[0;34m,\u001b[0m \u001b[0mlogs\u001b[0m\u001b[0;34m)\u001b[0m\u001b[0;34m\u001b[0m\u001b[0m\n\u001b[1;32m     86\u001b[0m         \u001b[0mself\u001b[0m\u001b[0;34m.\u001b[0m\u001b[0m_delta_ts_batch_begin\u001b[0m\u001b[0;34m.\u001b[0m\u001b[0mappend\u001b[0m\u001b[0;34m(\u001b[0m\u001b[0mtime\u001b[0m\u001b[0;34m.\u001b[0m\u001b[0mtime\u001b[0m\u001b[0;34m(\u001b[0m\u001b[0;34m)\u001b[0m \u001b[0;34m-\u001b[0m \u001b[0mt_before_callbacks\u001b[0m\u001b[0;34m)\u001b[0m\u001b[0;34m\u001b[0m\u001b[0m\n\u001b[0;32m---> 87\u001b[0;31m         \u001b[0mdelta_t_median\u001b[0m \u001b[0;34m=\u001b[0m \u001b[0mnp\u001b[0m\u001b[0;34m.\u001b[0m\u001b[0mmedian\u001b[0m\u001b[0;34m(\u001b[0m\u001b[0mself\u001b[0m\u001b[0;34m.\u001b[0m\u001b[0m_delta_ts_batch_begin\u001b[0m\u001b[0;34m)\u001b[0m\u001b[0;34m\u001b[0m\u001b[0m\n\u001b[0m\u001b[1;32m     88\u001b[0m         if (self._delta_t_batch > 0. and\n\u001b[1;32m     89\u001b[0m            \u001b[0mdelta_t_median\u001b[0m \u001b[0;34m>\u001b[0m \u001b[0;36m0.95\u001b[0m \u001b[0;34m*\u001b[0m \u001b[0mself\u001b[0m\u001b[0;34m.\u001b[0m\u001b[0m_delta_t_batch\u001b[0m \u001b[0;32mand\u001b[0m\u001b[0;34m\u001b[0m\u001b[0m\n",
      "\u001b[0;32m~/anaconda3/lib/python3.6/site-packages/numpy/lib/function_base.py\u001b[0m in \u001b[0;36mmedian\u001b[0;34m(a, axis, out, overwrite_input, keepdims)\u001b[0m\n\u001b[1;32m   4100\u001b[0m     \"\"\"\n\u001b[1;32m   4101\u001b[0m     r, k = _ureduce(a, func=_median, axis=axis, out=out,\n\u001b[0;32m-> 4102\u001b[0;31m                     overwrite_input=overwrite_input)\n\u001b[0m\u001b[1;32m   4103\u001b[0m     \u001b[0;32mif\u001b[0m \u001b[0mkeepdims\u001b[0m\u001b[0;34m:\u001b[0m\u001b[0;34m\u001b[0m\u001b[0m\n\u001b[1;32m   4104\u001b[0m         \u001b[0;32mreturn\u001b[0m \u001b[0mr\u001b[0m\u001b[0;34m.\u001b[0m\u001b[0mreshape\u001b[0m\u001b[0;34m(\u001b[0m\u001b[0mk\u001b[0m\u001b[0;34m)\u001b[0m\u001b[0;34m\u001b[0m\u001b[0m\n",
      "\u001b[0;32m~/anaconda3/lib/python3.6/site-packages/numpy/lib/function_base.py\u001b[0m in \u001b[0;36m_ureduce\u001b[0;34m(a, func, **kwargs)\u001b[0m\n\u001b[1;32m   4014\u001b[0m         \u001b[0mkeepdim\u001b[0m \u001b[0;34m=\u001b[0m \u001b[0;34m[\u001b[0m\u001b[0;36m1\u001b[0m\u001b[0;34m]\u001b[0m \u001b[0;34m*\u001b[0m \u001b[0ma\u001b[0m\u001b[0;34m.\u001b[0m\u001b[0mndim\u001b[0m\u001b[0;34m\u001b[0m\u001b[0m\n\u001b[1;32m   4015\u001b[0m \u001b[0;34m\u001b[0m\u001b[0m\n\u001b[0;32m-> 4016\u001b[0;31m     \u001b[0mr\u001b[0m \u001b[0;34m=\u001b[0m \u001b[0mfunc\u001b[0m\u001b[0;34m(\u001b[0m\u001b[0ma\u001b[0m\u001b[0;34m,\u001b[0m \u001b[0;34m**\u001b[0m\u001b[0mkwargs\u001b[0m\u001b[0;34m)\u001b[0m\u001b[0;34m\u001b[0m\u001b[0m\n\u001b[0m\u001b[1;32m   4017\u001b[0m     \u001b[0;32mreturn\u001b[0m \u001b[0mr\u001b[0m\u001b[0;34m,\u001b[0m \u001b[0mkeepdim\u001b[0m\u001b[0;34m\u001b[0m\u001b[0m\n\u001b[1;32m   4018\u001b[0m \u001b[0;34m\u001b[0m\u001b[0m\n",
      "\u001b[0;32m~/anaconda3/lib/python3.6/site-packages/numpy/lib/function_base.py\u001b[0m in \u001b[0;36m_median\u001b[0;34m(a, axis, out, overwrite_input)\u001b[0m\n\u001b[1;32m   4153\u001b[0m         \u001b[0;31m# warn and return nans like mean would\u001b[0m\u001b[0;34m\u001b[0m\u001b[0;34m\u001b[0m\u001b[0m\n\u001b[1;32m   4154\u001b[0m         \u001b[0mrout\u001b[0m \u001b[0;34m=\u001b[0m \u001b[0mmean\u001b[0m\u001b[0;34m(\u001b[0m\u001b[0mpart\u001b[0m\u001b[0;34m[\u001b[0m\u001b[0mindexer\u001b[0m\u001b[0;34m]\u001b[0m\u001b[0;34m,\u001b[0m \u001b[0maxis\u001b[0m\u001b[0;34m=\u001b[0m\u001b[0maxis\u001b[0m\u001b[0;34m,\u001b[0m \u001b[0mout\u001b[0m\u001b[0;34m=\u001b[0m\u001b[0mout\u001b[0m\u001b[0;34m)\u001b[0m\u001b[0;34m\u001b[0m\u001b[0m\n\u001b[0;32m-> 4155\u001b[0;31m         \u001b[0;32mreturn\u001b[0m \u001b[0mnp\u001b[0m\u001b[0;34m.\u001b[0m\u001b[0mlib\u001b[0m\u001b[0;34m.\u001b[0m\u001b[0mutils\u001b[0m\u001b[0;34m.\u001b[0m\u001b[0m_median_nancheck\u001b[0m\u001b[0;34m(\u001b[0m\u001b[0mpart\u001b[0m\u001b[0;34m,\u001b[0m \u001b[0mrout\u001b[0m\u001b[0;34m,\u001b[0m \u001b[0maxis\u001b[0m\u001b[0;34m,\u001b[0m \u001b[0mout\u001b[0m\u001b[0;34m)\u001b[0m\u001b[0;34m\u001b[0m\u001b[0m\n\u001b[0m\u001b[1;32m   4156\u001b[0m     \u001b[0;32melse\u001b[0m\u001b[0;34m:\u001b[0m\u001b[0;34m\u001b[0m\u001b[0m\n\u001b[1;32m   4157\u001b[0m         \u001b[0;31m# if there are no nans\u001b[0m\u001b[0;34m\u001b[0m\u001b[0;34m\u001b[0m\u001b[0m\n",
      "\u001b[0;32m~/anaconda3/lib/python3.6/site-packages/numpy/lib/utils.py\u001b[0m in \u001b[0;36m_median_nancheck\u001b[0;34m(data, result, axis, out)\u001b[0m\n\u001b[1;32m   1145\u001b[0m         \u001b[0mn\u001b[0m \u001b[0;34m=\u001b[0m \u001b[0mn\u001b[0m\u001b[0;34m.\u001b[0m\u001b[0mfilled\u001b[0m\u001b[0;34m(\u001b[0m\u001b[0;32mFalse\u001b[0m\u001b[0;34m)\u001b[0m\u001b[0;34m\u001b[0m\u001b[0m\n\u001b[1;32m   1146\u001b[0m     \u001b[0;32mif\u001b[0m \u001b[0mresult\u001b[0m\u001b[0;34m.\u001b[0m\u001b[0mndim\u001b[0m \u001b[0;34m==\u001b[0m \u001b[0;36m0\u001b[0m\u001b[0;34m:\u001b[0m\u001b[0;34m\u001b[0m\u001b[0m\n\u001b[0;32m-> 1147\u001b[0;31m         \u001b[0;32mif\u001b[0m \u001b[0mn\u001b[0m \u001b[0;34m==\u001b[0m \u001b[0;32mTrue\u001b[0m\u001b[0;34m:\u001b[0m\u001b[0;34m\u001b[0m\u001b[0m\n\u001b[0m\u001b[1;32m   1148\u001b[0m             warnings.warn(\"Invalid value encountered in median\",\n\u001b[1;32m   1149\u001b[0m                           RuntimeWarning, stacklevel=3)\n",
      "\u001b[0;31mKeyboardInterrupt\u001b[0m: "
     ]
    }
   ],
   "source": [
    "%%time\n",
    "run_model(X_train, y_train, X_val, y_val, batch_size=20,\n",
    "          feature_expander=feature_generator.count_all_features,\n",
    "          input_shape=262,\n",
    "          features_win=2,forecast_win=2, epochs=10, path_to_save='init_model', isLstm=True)"
   ]
  },
  {
   "cell_type": "code",
   "execution_count": 33,
   "metadata": {},
   "outputs": [
    {
     "data": {
      "text/html": [
       "<div>\n",
       "<style>\n",
       "    .dataframe thead tr:only-child th {\n",
       "        text-align: right;\n",
       "    }\n",
       "\n",
       "    .dataframe thead th {\n",
       "        text-align: left;\n",
       "    }\n",
       "\n",
       "    .dataframe tbody tr th {\n",
       "        vertical-align: top;\n",
       "    }\n",
       "</style>\n",
       "<table border=\"1\" class=\"dataframe\">\n",
       "  <thead>\n",
       "    <tr style=\"text-align: right;\">\n",
       "      <th></th>\n",
       "      <th>Unnamed: 0</th>\n",
       "      <th>0_ID</th>\n",
       "      <th>1_TIME</th>\n",
       "      <th>BID_P_1</th>\n",
       "      <th>BID_V_1</th>\n",
       "      <th>BID_P_2</th>\n",
       "      <th>BID_V_2</th>\n",
       "      <th>BID_P_3</th>\n",
       "      <th>BID_V_3</th>\n",
       "      <th>BID_P_4</th>\n",
       "      <th>...</th>\n",
       "      <th>ASK_P_6</th>\n",
       "      <th>ASK_V_6</th>\n",
       "      <th>ASK_P_7</th>\n",
       "      <th>ASK_V_7</th>\n",
       "      <th>ASK_P_8</th>\n",
       "      <th>ASK_V_8</th>\n",
       "      <th>ASK_P_9</th>\n",
       "      <th>ASK_V_9</th>\n",
       "      <th>ASK_P_10</th>\n",
       "      <th>ASK_V_10</th>\n",
       "    </tr>\n",
       "  </thead>\n",
       "  <tbody>\n",
       "    <tr>\n",
       "      <th>0</th>\n",
       "      <td>5617875</td>\n",
       "      <td>TEA</td>\n",
       "      <td>1970.01.02 17:59:17.691677</td>\n",
       "      <td>2561</td>\n",
       "      <td>81</td>\n",
       "      <td>2560</td>\n",
       "      <td>73</td>\n",
       "      <td>2559</td>\n",
       "      <td>99</td>\n",
       "      <td>2558</td>\n",
       "      <td>...</td>\n",
       "      <td>2567</td>\n",
       "      <td>109.0</td>\n",
       "      <td>2568.0</td>\n",
       "      <td>92.0</td>\n",
       "      <td>2569.0</td>\n",
       "      <td>105.0</td>\n",
       "      <td>2570.0</td>\n",
       "      <td>77.0</td>\n",
       "      <td>2571.0</td>\n",
       "      <td>124.0</td>\n",
       "    </tr>\n",
       "    <tr>\n",
       "      <th>1</th>\n",
       "      <td>5617876</td>\n",
       "      <td>TEA</td>\n",
       "      <td>1970.01.02 17:59:17.692349</td>\n",
       "      <td>2561</td>\n",
       "      <td>81</td>\n",
       "      <td>2560</td>\n",
       "      <td>73</td>\n",
       "      <td>2559</td>\n",
       "      <td>99</td>\n",
       "      <td>2558</td>\n",
       "      <td>...</td>\n",
       "      <td>2567</td>\n",
       "      <td>109.0</td>\n",
       "      <td>2568.0</td>\n",
       "      <td>92.0</td>\n",
       "      <td>2569.0</td>\n",
       "      <td>105.0</td>\n",
       "      <td>2570.0</td>\n",
       "      <td>77.0</td>\n",
       "      <td>2571.0</td>\n",
       "      <td>124.0</td>\n",
       "    </tr>\n",
       "    <tr>\n",
       "      <th>2</th>\n",
       "      <td>5617877</td>\n",
       "      <td>TEA</td>\n",
       "      <td>1970.01.02 17:59:17.692369</td>\n",
       "      <td>2561</td>\n",
       "      <td>81</td>\n",
       "      <td>2560</td>\n",
       "      <td>73</td>\n",
       "      <td>2559</td>\n",
       "      <td>99</td>\n",
       "      <td>2558</td>\n",
       "      <td>...</td>\n",
       "      <td>2567</td>\n",
       "      <td>109.0</td>\n",
       "      <td>2568.0</td>\n",
       "      <td>92.0</td>\n",
       "      <td>2569.0</td>\n",
       "      <td>105.0</td>\n",
       "      <td>2570.0</td>\n",
       "      <td>77.0</td>\n",
       "      <td>2571.0</td>\n",
       "      <td>124.0</td>\n",
       "    </tr>\n",
       "    <tr>\n",
       "      <th>3</th>\n",
       "      <td>5617878</td>\n",
       "      <td>TEA</td>\n",
       "      <td>1970.01.02 17:59:17.692587</td>\n",
       "      <td>2561</td>\n",
       "      <td>81</td>\n",
       "      <td>2560</td>\n",
       "      <td>73</td>\n",
       "      <td>2559</td>\n",
       "      <td>99</td>\n",
       "      <td>2558</td>\n",
       "      <td>...</td>\n",
       "      <td>2567</td>\n",
       "      <td>109.0</td>\n",
       "      <td>2568.0</td>\n",
       "      <td>92.0</td>\n",
       "      <td>2569.0</td>\n",
       "      <td>105.0</td>\n",
       "      <td>2570.0</td>\n",
       "      <td>77.0</td>\n",
       "      <td>2571.0</td>\n",
       "      <td>124.0</td>\n",
       "    </tr>\n",
       "    <tr>\n",
       "      <th>4</th>\n",
       "      <td>5617879</td>\n",
       "      <td>TEA</td>\n",
       "      <td>1970.01.02 17:59:17.692607</td>\n",
       "      <td>2561</td>\n",
       "      <td>81</td>\n",
       "      <td>2560</td>\n",
       "      <td>73</td>\n",
       "      <td>2559</td>\n",
       "      <td>99</td>\n",
       "      <td>2558</td>\n",
       "      <td>...</td>\n",
       "      <td>2567</td>\n",
       "      <td>109.0</td>\n",
       "      <td>2568.0</td>\n",
       "      <td>92.0</td>\n",
       "      <td>2569.0</td>\n",
       "      <td>104.0</td>\n",
       "      <td>2570.0</td>\n",
       "      <td>77.0</td>\n",
       "      <td>2571.0</td>\n",
       "      <td>124.0</td>\n",
       "    </tr>\n",
       "  </tbody>\n",
       "</table>\n",
       "<p>5 rows × 43 columns</p>\n",
       "</div>"
      ],
      "text/plain": [
       "   Unnamed: 0 0_ID                      1_TIME  BID_P_1  BID_V_1  BID_P_2  \\\n",
       "0     5617875  TEA  1970.01.02 17:59:17.691677     2561       81     2560   \n",
       "1     5617876  TEA  1970.01.02 17:59:17.692349     2561       81     2560   \n",
       "2     5617877  TEA  1970.01.02 17:59:17.692369     2561       81     2560   \n",
       "3     5617878  TEA  1970.01.02 17:59:17.692587     2561       81     2560   \n",
       "4     5617879  TEA  1970.01.02 17:59:17.692607     2561       81     2560   \n",
       "\n",
       "   BID_V_2  BID_P_3  BID_V_3  BID_P_4    ...     ASK_P_6  ASK_V_6  ASK_P_7  \\\n",
       "0       73     2559       99     2558    ...        2567    109.0   2568.0   \n",
       "1       73     2559       99     2558    ...        2567    109.0   2568.0   \n",
       "2       73     2559       99     2558    ...        2567    109.0   2568.0   \n",
       "3       73     2559       99     2558    ...        2567    109.0   2568.0   \n",
       "4       73     2559       99     2558    ...        2567    109.0   2568.0   \n",
       "\n",
       "   ASK_V_7  ASK_P_8  ASK_V_8  ASK_P_9  ASK_V_9  ASK_P_10  ASK_V_10  \n",
       "0     92.0   2569.0    105.0   2570.0     77.0    2571.0     124.0  \n",
       "1     92.0   2569.0    105.0   2570.0     77.0    2571.0     124.0  \n",
       "2     92.0   2569.0    105.0   2570.0     77.0    2571.0     124.0  \n",
       "3     92.0   2569.0    105.0   2570.0     77.0    2571.0     124.0  \n",
       "4     92.0   2569.0    104.0   2570.0     77.0    2571.0     124.0  \n",
       "\n",
       "[5 rows x 43 columns]"
      ]
     },
     "execution_count": 33,
     "metadata": {},
     "output_type": "execute_result"
    }
   ],
   "source": [
    "X_train.head()"
   ]
  },
  {
   "cell_type": "code",
   "execution_count": null,
   "metadata": {
    "collapsed": true
   },
   "outputs": [],
   "source": []
  },
  {
   "cell_type": "code",
   "execution_count": null,
   "metadata": {
    "collapsed": true
   },
   "outputs": [],
   "source": []
  }
 ],
 "metadata": {
  "kernelspec": {
   "display_name": "Python [conda root]",
   "language": "python",
   "name": "conda-root-py"
  },
  "language_info": {
   "codemirror_mode": {
    "name": "ipython",
    "version": 3
   },
   "file_extension": ".py",
   "mimetype": "text/x-python",
   "name": "python",
   "nbconvert_exporter": "python",
   "pygments_lexer": "ipython3",
   "version": "3.6.3"
  }
 },
 "nbformat": 4,
 "nbformat_minor": 2
}
