{
 "cells": [
  {
   "cell_type": "code",
   "execution_count": 1,
   "metadata": {},
   "outputs": [
    {
     "name": "stderr",
     "output_type": "stream",
     "text": [
      "Using TensorFlow backend.\n",
      "/Users/sergmiller/anaconda3/lib/python3.6/importlib/_bootstrap.py:219: RuntimeWarning: compiletime version 3.5 of module 'tensorflow.python.framework.fast_tensor_util' does not match runtime version 3.6\n",
      "  return f(*args, **kwds)\n",
      "/Users/sergmiller/anaconda3/lib/python3.6/site-packages/sklearn/cross_validation.py:41: DeprecationWarning: This module was deprecated in version 0.18 in favor of the model_selection module into which all the refactored classes and functions are moved. Also note that the interface of the new CV iterators are different from that of this module. This module will be removed in 0.20.\n",
      "  \"This module will be removed in 0.20.\", DeprecationWarning)\n"
     ]
    }
   ],
   "source": [
    "import numpy as np \n",
    "import scipy.stats as sps\n",
    "import pandas as pd\n",
    "import h5py\n",
    "import os\n",
    "from tqdm import tqdm\n",
    "\n",
    "from copy import deepcopy\n",
    "\n",
    "from numpy import array\n",
    "from os import environ\n",
    "from os.path import join\n",
    "from sys import argv\n",
    "\n",
    "from glob import glob\n",
    "from numpy import zeros\n",
    "from os.path import basename, join\n",
    "\n",
    "from keras.models import load_model\n",
    "from os import environ\n",
    "from os.path import abspath, dirname, join\n",
    "\n",
    "from copy import copy\n",
    "\n",
    "from sklearn.cross_validation import train_test_split\n",
    "\n",
    "import matplotlib.pyplot as plt\n",
    "%matplotlib inline"
   ]
  },
  {
   "cell_type": "code",
   "execution_count": 2,
   "metadata": {},
   "outputs": [],
   "source": [
    "import keras\n",
    "from keras import backend as K\n",
    "\n",
    "from keras.models import Sequential\n",
    "from keras.models import model_from_json\n",
    "\n",
    "from keras.layers import InputLayer, Input, Dense, Activation, Dropout, BatchNormalization, Reshape\n",
    "from keras.layers import Average, Conv2D, MaxPooling2D, Flatten\n",
    "from keras.layers.merge import Concatenate\n",
    "from keras.activations import relu, softmax, sigmoid\n",
    "from keras.layers.advanced_activations import LeakyReLU\n",
    "from keras.preprocessing.image import ImageDataGenerator\n",
    "\n",
    "from keras.models import Model\n",
    "\n",
    "from keras.regularizers import l2\n",
    "\n",
    "from keras.constraints import maxnorm\n",
    "\n",
    "from keras.optimizers import SGD, Adam\n",
    "from keras.utils import np_utils\n",
    "from keras.utils.np_utils import to_categorical\n",
    "\n",
    "from keras.losses import binary_crossentropy, mse\n",
    "\n",
    "from keras.callbacks import LearningRateScheduler"
   ]
  },
  {
   "cell_type": "code",
   "execution_count": 3,
   "metadata": {
    "collapsed": true
   },
   "outputs": [],
   "source": [
    "import datagen_Miller\n",
    "import models.keras_lstm"
   ]
  },
  {
   "cell_type": "code",
   "execution_count": 4,
   "metadata": {
    "collapsed": true
   },
   "outputs": [],
   "source": [
    "from importlib import reload"
   ]
  },
  {
   "cell_type": "code",
   "execution_count": 118,
   "metadata": {},
   "outputs": [],
   "source": [
    "def run_model(X_train, y_train, X_val, y_val, \n",
    "          bad_columns=None,\n",
    "          batch_size=1000,\n",
    "          feature_expander=None,\n",
    "          forecast_win=10,\n",
    "          features_win=100,\n",
    "          epochs=50,\n",
    "          path_to_load=None, \n",
    "          path_to_save=None,\n",
    "         ):\n",
    "    \n",
    "    assert isinstance(X_train, pd.DataFrame)\n",
    "    \n",
    "    if path_to_load is None:\n",
    "        model = models.keras_lstm.keras_lstm_model_1(max_sequence_length=batch_size,\n",
    "                                              input_shape=120)\n",
    "    else:\n",
    "        model = load_model(path_to_load)\n",
    "        \n",
    "    optimizer = Adam(1e-3, clipvalue=0.5)\n",
    "    model.compile(loss='mean_squared_error', \n",
    "                  optimizer=optimizer)\n",
    "    \n",
    "    datagen = datagen_Miller.DataGenerator(\n",
    "                                        batch_size,\n",
    "                                        feature_expander,\n",
    "                                        forecast_win, \n",
    "                                        features_win,\n",
    "                                          )\n",
    "    datagen.fit(X_train)\n",
    "    \n",
    "    filepath = \"weights.{epoch:02d}-{val_loss:.2f}.hdf5\"\n",
    "    \n",
    "    print('val steps {}'.format(X_val.shape[0] // batch_size))\n",
    "    \n",
    "    model.fit_generator(datagen.flow(X_train, y_train),\n",
    "                        steps_per_epoch=X_train.shape[0] / batch_size, \n",
    "                        epochs=epochs, \n",
    "                        shuffle=False,\n",
    "        callbacks=[\n",
    "            datagen_Miller.TelegramCallback(),\n",
    "            keras.callbacks.ModelCheckpoint(filepath, \n",
    "                                        monitor='val_loss', \n",
    "                                        verbose=0, \n",
    "                                        save_best_only=False, \n",
    "                                        save_weights_only=False, \n",
    "                                        mode='auto', \n",
    "                                        period=1)\n",
    "                ],\n",
    "        validation_data=datagen.flow(X_val, y_val),\n",
    "        validation_steps=X_val.shape[0] // batch_size,\n",
    "                       )\n",
    "    \n",
    "    if path_to_save:\n",
    "        model.save(path_to_save)"
   ]
  },
  {
   "cell_type": "code",
   "execution_count": 121,
   "metadata": {},
   "outputs": [
    {
     "data": {
      "text/plain": [
       "<module 'models.keras_lstm' from '/Users/sergmiller/Documents/code/python/NightPy/models/keras_lstm.py'>"
      ]
     },
     "execution_count": 121,
     "metadata": {},
     "output_type": "execute_result"
    }
   ],
   "source": [
    "reload(datagen_Miller)\n",
    "reload(models.keras_lstm)"
   ]
  },
  {
   "cell_type": "code",
   "execution_count": 9,
   "metadata": {},
   "outputs": [
    {
     "name": "stdout",
     "output_type": "stream",
     "text": [
      "CPU times: user 13.6 s, sys: 1.2 s, total: 14.8 s\n",
      "Wall time: 15.1 s\n"
     ]
    }
   ],
   "source": [
    "%%time\n",
    "# X_train = pd.read_csv('data/splits/tea_full_train.csv')\n",
    "val = pd.read_csv('data/splits/tea_full_validation.csv')\n",
    "# X_test = pd.read_csv('data/splits/tea_full_test.csv')"
   ]
  },
  {
   "cell_type": "code",
   "execution_count": 11,
   "metadata": {},
   "outputs": [
    {
     "data": {
      "text/plain": [
       "(1567308, 44)"
      ]
     },
     "execution_count": 11,
     "metadata": {},
     "output_type": "execute_result"
    }
   ],
   "source": [
    "val.shape"
   ]
  },
  {
   "cell_type": "code",
   "execution_count": 95,
   "metadata": {
    "collapsed": true
   },
   "outputs": [],
   "source": [
    "X_train = val.iloc[:1000]\n",
    "X_val = val.iloc[1000:2000]"
   ]
  },
  {
   "cell_type": "code",
   "execution_count": 96,
   "metadata": {
    "collapsed": true
   },
   "outputs": [],
   "source": [
    "filter_columns = ['Unnamed: 0', '0_ID', 'Y', '1_TIME']"
   ]
  },
  {
   "cell_type": "code",
   "execution_count": 97,
   "metadata": {},
   "outputs": [],
   "source": [
    "y_train = np.array(X_train['Y'])\n",
    "X_train = pd.DataFrame(X_train.drop(filter_columns, axis=1), dtype=np.float32)\n",
    "y_val = np.array(X_val['Y'])\n",
    "X_val = pd.DataFrame(X_val.drop(filter_columns, axis=1), dtype=np.float32)"
   ]
  },
  {
   "cell_type": "code",
   "execution_count": 106,
   "metadata": {},
   "outputs": [],
   "source": [
    "# for col in X_train:\n",
    "#     print(type(X_train[col].iloc[0]))"
   ]
  },
  {
   "cell_type": "code",
   "execution_count": 126,
   "metadata": {
    "scrolled": true
   },
   "outputs": [
    {
     "data": {
      "text/plain": [
       "BID_P_1     2561.0\n",
       "BID_V_1        1.0\n",
       "BID_P_2     2560.0\n",
       "BID_V_2       16.0\n",
       "BID_P_3     2559.0\n",
       "BID_V_3       56.0\n",
       "BID_P_4     2558.0\n",
       "BID_V_4       70.0\n",
       "BID_P_5     2557.0\n",
       "BID_V_5       77.0\n",
       "BID_P_6     2556.0\n",
       "BID_V_6       77.0\n",
       "BID_P_7     2555.0\n",
       "BID_V_7       78.0\n",
       "BID_P_8     2554.0\n",
       "BID_V_8       75.0\n",
       "BID_P_9     2553.0\n",
       "BID_V_9       74.0\n",
       "BID_P_10    2552.0\n",
       "BID_V_10      70.0\n",
       "ASK_P_1     2562.0\n",
       "ASK_V_1        1.0\n",
       "ASK_P_2     2563.0\n",
       "ASK_V_2       31.0\n",
       "ASK_P_3     2564.0\n",
       "ASK_V_3       70.0\n",
       "ASK_P_4     2565.0\n",
       "ASK_V_4       73.0\n",
       "ASK_P_5     2566.0\n",
       "ASK_V_5       76.0\n",
       "ASK_P_6     2567.0\n",
       "ASK_V_6       91.0\n",
       "ASK_P_7     2568.0\n",
       "ASK_V_7       75.0\n",
       "ASK_P_8     2569.0\n",
       "ASK_V_8       75.0\n",
       "ASK_P_9     2570.0\n",
       "ASK_V_9       68.0\n",
       "ASK_P_10    2571.0\n",
       "ASK_V_10      68.0\n",
       "dtype: float32"
      ]
     },
     "execution_count": 126,
     "metadata": {},
     "output_type": "execute_result"
    }
   ],
   "source": [
    "np.min(X_train)"
   ]
  },
  {
   "cell_type": "code",
   "execution_count": 122,
   "metadata": {},
   "outputs": [
    {
     "name": "stdout",
     "output_type": "stream",
     "text": [
      "end fit\n",
      "val steps 100\n"
     ]
    },
    {
     "name": "stderr",
     "output_type": "stream",
     "text": [
      "/Users/sergmiller/anaconda3/lib/python3.6/site-packages/pandas/core/indexes/base.py:3033: RuntimeWarning: '<' not supported between instances of 'int' and 'str', sort order is undefined for incomparable objects\n",
      "  return this.join(other, how=how, return_indexers=return_indexers)\n",
      "/Users/sergmiller/anaconda3/lib/python3.6/site-packages/pandas/core/generic.py:5031: RuntimeWarning: '<' not supported between instances of 'str' and 'int', sort order is undefined for incomparable objects\n",
      "  return_indexers=True)\n"
     ]
    },
    {
     "name": "stdout",
     "output_type": "stream",
     "text": [
      "Epoch 1/10\n",
      "100/100 [==============================] - 13s 132ms/step - loss: nan - val_loss: nan\n",
      "Epoch 2/10\n",
      " 99/100 [============================>.] - ETA: 0s - loss: nan"
     ]
    },
    {
     "ename": "KeyboardInterrupt",
     "evalue": "",
     "output_type": "error",
     "traceback": [
      "\u001b[0;31m---------------------------------------------------------------------------\u001b[0m",
      "\u001b[0;31mKeyboardInterrupt\u001b[0m                         Traceback (most recent call last)",
      "\u001b[0;32m<timed eval>\u001b[0m in \u001b[0;36m<module>\u001b[0;34m()\u001b[0m\n",
      "\u001b[0;32m<ipython-input-118-96e9e00de181>\u001b[0m in \u001b[0;36mrun_model\u001b[0;34m(X_train, y_train, X_val, y_val, bad_columns, batch_size, feature_expander, forecast_win, features_win, epochs, path_to_load, path_to_save)\u001b[0m\n\u001b[1;32m     49\u001b[0m                 ],\n\u001b[1;32m     50\u001b[0m         \u001b[0mvalidation_data\u001b[0m\u001b[0;34m=\u001b[0m\u001b[0mdatagen\u001b[0m\u001b[0;34m.\u001b[0m\u001b[0mflow\u001b[0m\u001b[0;34m(\u001b[0m\u001b[0mX_val\u001b[0m\u001b[0;34m,\u001b[0m \u001b[0my_val\u001b[0m\u001b[0;34m)\u001b[0m\u001b[0;34m,\u001b[0m\u001b[0;34m\u001b[0m\u001b[0m\n\u001b[0;32m---> 51\u001b[0;31m         \u001b[0mvalidation_steps\u001b[0m\u001b[0;34m=\u001b[0m\u001b[0mX_val\u001b[0m\u001b[0;34m.\u001b[0m\u001b[0mshape\u001b[0m\u001b[0;34m[\u001b[0m\u001b[0;36m0\u001b[0m\u001b[0;34m]\u001b[0m \u001b[0;34m//\u001b[0m \u001b[0mbatch_size\u001b[0m\u001b[0;34m,\u001b[0m\u001b[0;34m\u001b[0m\u001b[0m\n\u001b[0m\u001b[1;32m     52\u001b[0m                        )\n\u001b[1;32m     53\u001b[0m \u001b[0;34m\u001b[0m\u001b[0m\n",
      "\u001b[0;32m~/anaconda3/lib/python3.6/site-packages/keras/legacy/interfaces.py\u001b[0m in \u001b[0;36mwrapper\u001b[0;34m(*args, **kwargs)\u001b[0m\n\u001b[1;32m     85\u001b[0m                 warnings.warn('Update your `' + object_name +\n\u001b[1;32m     86\u001b[0m                               '` call to the Keras 2 API: ' + signature, stacklevel=2)\n\u001b[0;32m---> 87\u001b[0;31m             \u001b[0;32mreturn\u001b[0m \u001b[0mfunc\u001b[0m\u001b[0;34m(\u001b[0m\u001b[0;34m*\u001b[0m\u001b[0margs\u001b[0m\u001b[0;34m,\u001b[0m \u001b[0;34m**\u001b[0m\u001b[0mkwargs\u001b[0m\u001b[0;34m)\u001b[0m\u001b[0;34m\u001b[0m\u001b[0m\n\u001b[0m\u001b[1;32m     88\u001b[0m         \u001b[0mwrapper\u001b[0m\u001b[0;34m.\u001b[0m\u001b[0m_original_function\u001b[0m \u001b[0;34m=\u001b[0m \u001b[0mfunc\u001b[0m\u001b[0;34m\u001b[0m\u001b[0m\n\u001b[1;32m     89\u001b[0m         \u001b[0;32mreturn\u001b[0m \u001b[0mwrapper\u001b[0m\u001b[0;34m\u001b[0m\u001b[0m\n",
      "\u001b[0;32m~/anaconda3/lib/python3.6/site-packages/keras/engine/training.py\u001b[0m in \u001b[0;36mfit_generator\u001b[0;34m(self, generator, steps_per_epoch, epochs, verbose, callbacks, validation_data, validation_steps, class_weight, max_queue_size, workers, use_multiprocessing, shuffle, initial_epoch)\u001b[0m\n\u001b[1;32m   2134\u001b[0m                                 \u001b[0mmax_queue_size\u001b[0m\u001b[0;34m=\u001b[0m\u001b[0mmax_queue_size\u001b[0m\u001b[0;34m,\u001b[0m\u001b[0;34m\u001b[0m\u001b[0m\n\u001b[1;32m   2135\u001b[0m                                 \u001b[0mworkers\u001b[0m\u001b[0;34m=\u001b[0m\u001b[0mworkers\u001b[0m\u001b[0;34m,\u001b[0m\u001b[0;34m\u001b[0m\u001b[0m\n\u001b[0;32m-> 2136\u001b[0;31m                                 use_multiprocessing=use_multiprocessing)\n\u001b[0m\u001b[1;32m   2137\u001b[0m                         \u001b[0;32melse\u001b[0m\u001b[0;34m:\u001b[0m\u001b[0;34m\u001b[0m\u001b[0m\n\u001b[1;32m   2138\u001b[0m                             \u001b[0;31m# No need for try/except because\u001b[0m\u001b[0;34m\u001b[0m\u001b[0;34m\u001b[0m\u001b[0m\n",
      "\u001b[0;32m~/anaconda3/lib/python3.6/site-packages/keras/legacy/interfaces.py\u001b[0m in \u001b[0;36mwrapper\u001b[0;34m(*args, **kwargs)\u001b[0m\n\u001b[1;32m     85\u001b[0m                 warnings.warn('Update your `' + object_name +\n\u001b[1;32m     86\u001b[0m                               '` call to the Keras 2 API: ' + signature, stacklevel=2)\n\u001b[0;32m---> 87\u001b[0;31m             \u001b[0;32mreturn\u001b[0m \u001b[0mfunc\u001b[0m\u001b[0;34m(\u001b[0m\u001b[0;34m*\u001b[0m\u001b[0margs\u001b[0m\u001b[0;34m,\u001b[0m \u001b[0;34m**\u001b[0m\u001b[0mkwargs\u001b[0m\u001b[0;34m)\u001b[0m\u001b[0;34m\u001b[0m\u001b[0m\n\u001b[0m\u001b[1;32m     88\u001b[0m         \u001b[0mwrapper\u001b[0m\u001b[0;34m.\u001b[0m\u001b[0m_original_function\u001b[0m \u001b[0;34m=\u001b[0m \u001b[0mfunc\u001b[0m\u001b[0;34m\u001b[0m\u001b[0m\n\u001b[1;32m     89\u001b[0m         \u001b[0;32mreturn\u001b[0m \u001b[0mwrapper\u001b[0m\u001b[0;34m\u001b[0m\u001b[0m\n",
      "\u001b[0;32m~/anaconda3/lib/python3.6/site-packages/keras/engine/training.py\u001b[0m in \u001b[0;36mevaluate_generator\u001b[0;34m(self, generator, steps, max_queue_size, workers, use_multiprocessing)\u001b[0m\n\u001b[1;32m   2233\u001b[0m \u001b[0;34m\u001b[0m\u001b[0m\n\u001b[1;32m   2234\u001b[0m             \u001b[0;32mwhile\u001b[0m \u001b[0msteps_done\u001b[0m \u001b[0;34m<\u001b[0m \u001b[0msteps\u001b[0m\u001b[0;34m:\u001b[0m\u001b[0;34m\u001b[0m\u001b[0m\n\u001b[0;32m-> 2235\u001b[0;31m                 \u001b[0mgenerator_output\u001b[0m \u001b[0;34m=\u001b[0m \u001b[0mnext\u001b[0m\u001b[0;34m(\u001b[0m\u001b[0moutput_generator\u001b[0m\u001b[0;34m)\u001b[0m\u001b[0;34m\u001b[0m\u001b[0m\n\u001b[0m\u001b[1;32m   2236\u001b[0m                 \u001b[0;32mif\u001b[0m \u001b[0;32mnot\u001b[0m \u001b[0mhasattr\u001b[0m\u001b[0;34m(\u001b[0m\u001b[0mgenerator_output\u001b[0m\u001b[0;34m,\u001b[0m \u001b[0;34m'__len__'\u001b[0m\u001b[0;34m)\u001b[0m\u001b[0;34m:\u001b[0m\u001b[0;34m\u001b[0m\u001b[0m\n\u001b[1;32m   2237\u001b[0m                     raise ValueError('Output of generator should be a tuple '\n",
      "\u001b[0;32m~/anaconda3/lib/python3.6/site-packages/keras/utils/data_utils.py\u001b[0m in \u001b[0;36mget\u001b[0;34m(self)\u001b[0m\n\u001b[1;32m    710\u001b[0m                     \u001b[0;32mraise\u001b[0m \u001b[0mStopIteration\u001b[0m\u001b[0;34m(\u001b[0m\u001b[0;34m)\u001b[0m\u001b[0;34m\u001b[0m\u001b[0m\n\u001b[1;32m    711\u001b[0m                 \u001b[0;32melse\u001b[0m\u001b[0;34m:\u001b[0m\u001b[0;34m\u001b[0m\u001b[0m\n\u001b[0;32m--> 712\u001b[0;31m                     \u001b[0mtime\u001b[0m\u001b[0;34m.\u001b[0m\u001b[0msleep\u001b[0m\u001b[0;34m(\u001b[0m\u001b[0mself\u001b[0m\u001b[0;34m.\u001b[0m\u001b[0mwait_time\u001b[0m\u001b[0;34m)\u001b[0m\u001b[0;34m\u001b[0m\u001b[0m\n\u001b[0m",
      "\u001b[0;31mKeyboardInterrupt\u001b[0m: "
     ]
    }
   ],
   "source": [
    "%%time\n",
    "run_model(X_train, y_train, X_val, y_val,batch_size=10, \n",
    "          features_win=2,forecast_win=2, epochs=10, path_to_save='init_model')"
   ]
  },
  {
   "cell_type": "code",
   "execution_count": 33,
   "metadata": {},
   "outputs": [
    {
     "data": {
      "text/html": [
       "<div>\n",
       "<style>\n",
       "    .dataframe thead tr:only-child th {\n",
       "        text-align: right;\n",
       "    }\n",
       "\n",
       "    .dataframe thead th {\n",
       "        text-align: left;\n",
       "    }\n",
       "\n",
       "    .dataframe tbody tr th {\n",
       "        vertical-align: top;\n",
       "    }\n",
       "</style>\n",
       "<table border=\"1\" class=\"dataframe\">\n",
       "  <thead>\n",
       "    <tr style=\"text-align: right;\">\n",
       "      <th></th>\n",
       "      <th>Unnamed: 0</th>\n",
       "      <th>0_ID</th>\n",
       "      <th>1_TIME</th>\n",
       "      <th>BID_P_1</th>\n",
       "      <th>BID_V_1</th>\n",
       "      <th>BID_P_2</th>\n",
       "      <th>BID_V_2</th>\n",
       "      <th>BID_P_3</th>\n",
       "      <th>BID_V_3</th>\n",
       "      <th>BID_P_4</th>\n",
       "      <th>...</th>\n",
       "      <th>ASK_P_6</th>\n",
       "      <th>ASK_V_6</th>\n",
       "      <th>ASK_P_7</th>\n",
       "      <th>ASK_V_7</th>\n",
       "      <th>ASK_P_8</th>\n",
       "      <th>ASK_V_8</th>\n",
       "      <th>ASK_P_9</th>\n",
       "      <th>ASK_V_9</th>\n",
       "      <th>ASK_P_10</th>\n",
       "      <th>ASK_V_10</th>\n",
       "    </tr>\n",
       "  </thead>\n",
       "  <tbody>\n",
       "    <tr>\n",
       "      <th>0</th>\n",
       "      <td>5617875</td>\n",
       "      <td>TEA</td>\n",
       "      <td>1970.01.02 17:59:17.691677</td>\n",
       "      <td>2561</td>\n",
       "      <td>81</td>\n",
       "      <td>2560</td>\n",
       "      <td>73</td>\n",
       "      <td>2559</td>\n",
       "      <td>99</td>\n",
       "      <td>2558</td>\n",
       "      <td>...</td>\n",
       "      <td>2567</td>\n",
       "      <td>109.0</td>\n",
       "      <td>2568.0</td>\n",
       "      <td>92.0</td>\n",
       "      <td>2569.0</td>\n",
       "      <td>105.0</td>\n",
       "      <td>2570.0</td>\n",
       "      <td>77.0</td>\n",
       "      <td>2571.0</td>\n",
       "      <td>124.0</td>\n",
       "    </tr>\n",
       "    <tr>\n",
       "      <th>1</th>\n",
       "      <td>5617876</td>\n",
       "      <td>TEA</td>\n",
       "      <td>1970.01.02 17:59:17.692349</td>\n",
       "      <td>2561</td>\n",
       "      <td>81</td>\n",
       "      <td>2560</td>\n",
       "      <td>73</td>\n",
       "      <td>2559</td>\n",
       "      <td>99</td>\n",
       "      <td>2558</td>\n",
       "      <td>...</td>\n",
       "      <td>2567</td>\n",
       "      <td>109.0</td>\n",
       "      <td>2568.0</td>\n",
       "      <td>92.0</td>\n",
       "      <td>2569.0</td>\n",
       "      <td>105.0</td>\n",
       "      <td>2570.0</td>\n",
       "      <td>77.0</td>\n",
       "      <td>2571.0</td>\n",
       "      <td>124.0</td>\n",
       "    </tr>\n",
       "    <tr>\n",
       "      <th>2</th>\n",
       "      <td>5617877</td>\n",
       "      <td>TEA</td>\n",
       "      <td>1970.01.02 17:59:17.692369</td>\n",
       "      <td>2561</td>\n",
       "      <td>81</td>\n",
       "      <td>2560</td>\n",
       "      <td>73</td>\n",
       "      <td>2559</td>\n",
       "      <td>99</td>\n",
       "      <td>2558</td>\n",
       "      <td>...</td>\n",
       "      <td>2567</td>\n",
       "      <td>109.0</td>\n",
       "      <td>2568.0</td>\n",
       "      <td>92.0</td>\n",
       "      <td>2569.0</td>\n",
       "      <td>105.0</td>\n",
       "      <td>2570.0</td>\n",
       "      <td>77.0</td>\n",
       "      <td>2571.0</td>\n",
       "      <td>124.0</td>\n",
       "    </tr>\n",
       "    <tr>\n",
       "      <th>3</th>\n",
       "      <td>5617878</td>\n",
       "      <td>TEA</td>\n",
       "      <td>1970.01.02 17:59:17.692587</td>\n",
       "      <td>2561</td>\n",
       "      <td>81</td>\n",
       "      <td>2560</td>\n",
       "      <td>73</td>\n",
       "      <td>2559</td>\n",
       "      <td>99</td>\n",
       "      <td>2558</td>\n",
       "      <td>...</td>\n",
       "      <td>2567</td>\n",
       "      <td>109.0</td>\n",
       "      <td>2568.0</td>\n",
       "      <td>92.0</td>\n",
       "      <td>2569.0</td>\n",
       "      <td>105.0</td>\n",
       "      <td>2570.0</td>\n",
       "      <td>77.0</td>\n",
       "      <td>2571.0</td>\n",
       "      <td>124.0</td>\n",
       "    </tr>\n",
       "    <tr>\n",
       "      <th>4</th>\n",
       "      <td>5617879</td>\n",
       "      <td>TEA</td>\n",
       "      <td>1970.01.02 17:59:17.692607</td>\n",
       "      <td>2561</td>\n",
       "      <td>81</td>\n",
       "      <td>2560</td>\n",
       "      <td>73</td>\n",
       "      <td>2559</td>\n",
       "      <td>99</td>\n",
       "      <td>2558</td>\n",
       "      <td>...</td>\n",
       "      <td>2567</td>\n",
       "      <td>109.0</td>\n",
       "      <td>2568.0</td>\n",
       "      <td>92.0</td>\n",
       "      <td>2569.0</td>\n",
       "      <td>104.0</td>\n",
       "      <td>2570.0</td>\n",
       "      <td>77.0</td>\n",
       "      <td>2571.0</td>\n",
       "      <td>124.0</td>\n",
       "    </tr>\n",
       "  </tbody>\n",
       "</table>\n",
       "<p>5 rows × 43 columns</p>\n",
       "</div>"
      ],
      "text/plain": [
       "   Unnamed: 0 0_ID                      1_TIME  BID_P_1  BID_V_1  BID_P_2  \\\n",
       "0     5617875  TEA  1970.01.02 17:59:17.691677     2561       81     2560   \n",
       "1     5617876  TEA  1970.01.02 17:59:17.692349     2561       81     2560   \n",
       "2     5617877  TEA  1970.01.02 17:59:17.692369     2561       81     2560   \n",
       "3     5617878  TEA  1970.01.02 17:59:17.692587     2561       81     2560   \n",
       "4     5617879  TEA  1970.01.02 17:59:17.692607     2561       81     2560   \n",
       "\n",
       "   BID_V_2  BID_P_3  BID_V_3  BID_P_4    ...     ASK_P_6  ASK_V_6  ASK_P_7  \\\n",
       "0       73     2559       99     2558    ...        2567    109.0   2568.0   \n",
       "1       73     2559       99     2558    ...        2567    109.0   2568.0   \n",
       "2       73     2559       99     2558    ...        2567    109.0   2568.0   \n",
       "3       73     2559       99     2558    ...        2567    109.0   2568.0   \n",
       "4       73     2559       99     2558    ...        2567    109.0   2568.0   \n",
       "\n",
       "   ASK_V_7  ASK_P_8  ASK_V_8  ASK_P_9  ASK_V_9  ASK_P_10  ASK_V_10  \n",
       "0     92.0   2569.0    105.0   2570.0     77.0    2571.0     124.0  \n",
       "1     92.0   2569.0    105.0   2570.0     77.0    2571.0     124.0  \n",
       "2     92.0   2569.0    105.0   2570.0     77.0    2571.0     124.0  \n",
       "3     92.0   2569.0    105.0   2570.0     77.0    2571.0     124.0  \n",
       "4     92.0   2569.0    104.0   2570.0     77.0    2571.0     124.0  \n",
       "\n",
       "[5 rows x 43 columns]"
      ]
     },
     "execution_count": 33,
     "metadata": {},
     "output_type": "execute_result"
    }
   ],
   "source": [
    "X_train.head()"
   ]
  },
  {
   "cell_type": "code",
   "execution_count": null,
   "metadata": {
    "collapsed": true
   },
   "outputs": [],
   "source": []
  },
  {
   "cell_type": "code",
   "execution_count": null,
   "metadata": {
    "collapsed": true
   },
   "outputs": [],
   "source": []
  }
 ],
 "metadata": {
  "kernelspec": {
   "display_name": "Python [conda root]",
   "language": "python",
   "name": "conda-root-py"
  },
  "language_info": {
   "codemirror_mode": {
    "name": "ipython",
    "version": 3
   },
   "file_extension": ".py",
   "mimetype": "text/x-python",
   "name": "python",
   "nbconvert_exporter": "python",
   "pygments_lexer": "ipython3",
   "version": "3.6.3"
  }
 },
 "nbformat": 4,
 "nbformat_minor": 2
}
